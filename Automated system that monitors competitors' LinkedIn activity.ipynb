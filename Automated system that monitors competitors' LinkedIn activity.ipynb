{
 "cells": [
  {
   "cell_type": "markdown",
   "id": "9cca60b9-0706-4b66-8c1d-0103865a5774",
   "metadata": {},
   "source": [
    "CONFIGURING SELENIUM\n"
   ]
  },
  {
   "cell_type": "code",
   "execution_count": 1,
   "id": "e01a7042-9c42-4b99-81f4-f537b187b34b",
   "metadata": {},
   "outputs": [],
   "source": [
    "from selenium import webdriver\n",
    "from selenium.webdriver.common.by import By\n",
    "from selenium.webdriver.common.keys import Keys"
   ]
  },
  {
   "cell_type": "markdown",
   "id": "2d57b4c0-d000-488d-942b-2d0f43e74e97",
   "metadata": {},
   "source": [
    "GIVING PATH"
   ]
  },
  {
   "cell_type": "code",
   "execution_count": 2,
   "id": "272f6961-9925-4102-b762-b1a1be52c637",
   "metadata": {},
   "outputs": [],
   "source": [
    "webdriver_path = r\"C:\\Users\\prave\\Desktop\\2\\chromedriver-win64\\chromedriver-win64\\chromedriver.exe\""
   ]
  },
  {
   "cell_type": "code",
   "execution_count": 3,
   "id": "438c9afb-dae2-4cd7-9db1-936c159bde18",
   "metadata": {},
   "outputs": [],
   "source": [
    "chrome_service = webdriver.ChromeService(executable_path=webdriver_path)"
   ]
  },
  {
   "cell_type": "markdown",
   "id": "58697db1-2d8c-459a-b0c1-223cb485dfd6",
   "metadata": {},
   "source": [
    "INTIALISE CHROME WEBDRIVER"
   ]
  },
  {
   "cell_type": "code",
   "execution_count": 5,
   "id": "be0d24fd-a8a6-48fa-a06f-403cd032d773",
   "metadata": {},
   "outputs": [],
   "source": [
    "driver = webdriver.Chrome(service=chrome_service, options=chrome_options)"
   ]
  },
  {
   "cell_type": "markdown",
   "id": "73a1bc10-40da-4938-b25f-c44d73f4d3b2",
   "metadata": {},
   "source": [
    "NAVIGATING TO THE LINKEDIN LOGIN PAGE"
   ]
  },
  {
   "cell_type": "code",
   "execution_count": 6,
   "id": "130bdb51-8d54-4fab-ae0a-aba16b024864",
   "metadata": {},
   "outputs": [],
   "source": [
    "driver.get(\"https://www.linkedin.com/login\")"
   ]
  },
  {
   "cell_type": "markdown",
   "id": "41948093-40b9-429b-84ff-ede8efe0d984",
   "metadata": {},
   "source": [
    "EMAIL ID DETAILS"
   ]
  },
  {
   "cell_type": "code",
   "execution_count": 9,
   "id": "95b0d0fc-fe64-4ded-b0c3-24d1e61e9b5d",
   "metadata": {},
   "outputs": [],
   "source": [
    "email_input = driver.find_element(By.ID, \"username\")\n",
    "email_input.send_keys(\"praveentuf15@gmail.com\")\n"
   ]
  },
  {
   "cell_type": "markdown",
   "id": "782ee451-cd0b-4299-b541-059a21c09853",
   "metadata": {},
   "source": [
    "PASSWORD DETAILS\n"
   ]
  },
  {
   "cell_type": "code",
   "execution_count": 10,
   "id": "e6ae254c-f5e6-4c76-84fa-ca6af2a225a7",
   "metadata": {},
   "outputs": [],
   "source": [
    "password_input = driver.find_element(By.ID, \"password\")\n",
    "password_input.send_keys(\"Cheenu@12\")"
   ]
  },
  {
   "cell_type": "markdown",
   "id": "1e00c78a-eb65-42fc-a25e-e43b43083f1d",
   "metadata": {},
   "source": [
    "SUBMITTING THE LOGIN FORM"
   ]
  },
  {
   "cell_type": "code",
   "execution_count": 11,
   "id": "cf3247d2-1e4c-4c6a-bf7f-175f5765b84f",
   "metadata": {},
   "outputs": [],
   "source": [
    "password_input.send_keys(Keys.RETURN)"
   ]
  },
  {
   "cell_type": "markdown",
   "id": "b84d4e3c-3e49-4149-a1f7-905240004362",
   "metadata": {},
   "source": [
    "WAITING FOR FEW SEC TO ENSURE THE LOGIN PROCESS IS COMPLETE"
   ]
  },
  {
   "cell_type": "code",
   "execution_count": 12,
   "id": "45d4a9ad-7e50-4f2d-b9c0-88babe7834fb",
   "metadata": {},
   "outputs": [],
   "source": [
    "import time\n",
    "time.sleep(3)"
   ]
  },
  {
   "cell_type": "markdown",
   "id": "a4a4b9d4-8a1a-4933-a53b-9a8e7d8982e1",
   "metadata": {},
   "source": [
    "LOGIN FOR LIKEDIN IS COMPLETE"
   ]
  },
  {
   "cell_type": "markdown",
   "id": "c19ce5b9-0936-4b9a-98e2-0cbd594f5aaf",
   "metadata": {},
   "source": [
    "TAKING THE SCREENSHOT FOR THE LOGIN PAGE"
   ]
  },
  {
   "cell_type": "code",
   "execution_count": 13,
   "id": "32cf8073-594d-4fdc-83fe-16f6dca93601",
   "metadata": {},
   "outputs": [
    {
     "data": {
      "text/plain": [
       "True"
      ]
     },
     "execution_count": 13,
     "metadata": {},
     "output_type": "execute_result"
    }
   ],
   "source": [
    "driver.save_screenshot(\"linkedin_logged_in.png\")"
   ]
  },
  {
   "cell_type": "markdown",
   "id": "55f41657-c816-4377-b54d-d2c69ca7c265",
   "metadata": {},
   "source": [
    "NAVIGATING TO COMPETITORS LINKEDIN PROFILES"
   ]
  },
  {
   "cell_type": "markdown",
   "id": "1cf003c7-4890-4b6b-b6ce-1ab3d5619ee3",
   "metadata": {},
   "source": [
    "PROFILE 1"
   ]
  },
  {
   "cell_type": "code",
   "execution_count": 15,
   "id": "af0888e5-4827-4b3c-b9ce-8b0b2c7421fc",
   "metadata": {},
   "outputs": [],
   "source": [
    "competitor_profile_url = \"https://www.linkedin.com/in/priyanshuborole/\"\n",
    "driver.get(competitor_profile_url)\n"
   ]
  },
  {
   "cell_type": "code",
   "execution_count": 16,
   "id": "5ffe52cf-904d-40cb-bec3-a5d095175fe1",
   "metadata": {},
   "outputs": [
    {
     "data": {
      "text/plain": [
       "True"
      ]
     },
     "execution_count": 16,
     "metadata": {},
     "output_type": "execute_result"
    }
   ],
   "source": [
    "driver.save_screenshot(\"competitor_profile.png\")"
   ]
  },
  {
   "cell_type": "markdown",
   "id": "fc58f840-980b-4288-aff6-20d14eb7b9fc",
   "metadata": {},
   "source": [
    "PROFILE 2"
   ]
  },
  {
   "cell_type": "code",
   "execution_count": 17,
   "id": "687f4dd8-7f42-4c0e-a82f-2a5916e93267",
   "metadata": {},
   "outputs": [
    {
     "data": {
      "text/plain": [
       "True"
      ]
     },
     "execution_count": 17,
     "metadata": {},
     "output_type": "execute_result"
    }
   ],
   "source": [
    "competitor_profile_url = \"https://www.linkedin.com/in/apurvnikum/\"\n",
    "driver.get(competitor_profile_url)\n",
    "driver.save_screenshot(\"competitor_profile.png\")"
   ]
  },
  {
   "cell_type": "markdown",
   "id": "e553985d-1147-486f-bdd9-5ed52cb6c992",
   "metadata": {},
   "source": [
    "PROFILE 3"
   ]
  },
  {
   "cell_type": "code",
   "execution_count": 18,
   "id": "933b4def-8267-4568-ac70-4e8d504cc0f0",
   "metadata": {},
   "outputs": [
    {
     "data": {
      "text/plain": [
       "True"
      ]
     },
     "execution_count": 18,
     "metadata": {},
     "output_type": "execute_result"
    }
   ],
   "source": [
    "competitor_profile_url = \"https://www.linkedin.com/in/shreyas-pujari-813673205/\"\n",
    "driver.get(competitor_profile_url)\n",
    "driver.save_screenshot(\"competitor_profile.png\")"
   ]
  },
  {
   "cell_type": "markdown",
   "id": "a11edec5-886a-4d44-b74a-7ec51bc5fe91",
   "metadata": {},
   "source": [
    "SCRAPPING NEW CONNECTIONS"
   ]
  },
  {
   "cell_type": "code",
   "execution_count": 19,
   "id": "936322ed-c860-49bb-8ebb-4de85a96732c",
   "metadata": {},
   "outputs": [],
   "source": [
    "for _ in range(3):\n",
    "    driver.execute_script(\"window.scrollBy(0, 1000)\")\n"
   ]
  },
  {
   "cell_type": "markdown",
   "id": "dc5faf3c-6644-4575-915c-ab800348134c",
   "metadata": {},
   "source": [
    "EXTRACTING INFORMATION FROM THE PROFILES"
   ]
  },
  {
   "cell_type": "code",
   "execution_count": 24,
   "id": "b978b049-a10e-4b67-bb6c-3fe8a4578a17",
   "metadata": {},
   "outputs": [],
   "source": [
    "connections = driver.find_elements(By.CSS_SELECTOR, \".mn-connection-card\")\n",
    "for connection in connections:\n",
    "    name = connection.find_element(By.CSS_SELECTOR, \".mn-connection-card__name\").text\n",
    "    headline = connection.find_element(By.CSS_SELECTOR, \".mn-connection-card__headline\").text\n",
    "    print(f\"Name: {name}\")\n",
    "    print(f\"Headline: {headline}\")\n",
    "    print(\"\\n\")"
   ]
  },
  {
   "cell_type": "markdown",
   "id": "54d1fb1b-316e-46e8-84df-9b3ef9593bb0",
   "metadata": {},
   "source": [
    "EXTRACT INFORMATION"
   ]
  },
  {
   "cell_type": "code",
   "execution_count": 25,
   "id": "a6646268-bd5b-470f-89cf-b6dcf6b0d932",
   "metadata": {},
   "outputs": [],
   "source": [
    "from bs4 import BeautifulSoup"
   ]
  },
  {
   "cell_type": "markdown",
   "id": "f8db2d14-e468-4716-975f-53e6bedf9ad1",
   "metadata": {},
   "source": [
    "SENDING CONNECTION REQUESTS"
   ]
  },
  {
   "cell_type": "code",
   "execution_count": null,
   "id": "b62b6799-3707-498c-ab0e-1a08fb01e5b7",
   "metadata": {},
   "outputs": [],
   "source": [
    "\n",
    "connections = driver.find_elements(By.CSS_SELECTOR, \".mn-connection-card\")\n",
    "for connection in connections:\n",
    "    name_element = connection.find_element(By.CSS_SELECTOR, \".mn-connection-card__name\")\n",
    "    name = name_element.text\n",
    "    headline_element = connection.find_element(By.CSS_SELECTOR, \".mn-connection-card__headline\")\n",
    "    headline = headline_element.text\n",
    "    connection.click()\n",
    "    time.sleep(3)\n",
    "    profile_html = driver.page_source\n",
    "    soup = BeautifulSoup(profile_html, \"html.parser\")\n",
    "    about_us_element = soup.find(\"section\", class_=\"pv-about-section\")\n",
    "    about_us = about_us_element.get_text() if about_us_element else \"N/A\"\n",
    "    job_description_element = soup.find(\"section\", class_=\"experience-section\")\n",
    "    job_description = job_description_element.get_text() if job_description_element else \"N/A\"\n",
    "    print(f\"Name: {name}\")\n",
    "    print(f\"Headline: {headline}\")\n",
    "    print(f\"About Us: {about_us}\")\n",
    "    print(f\"Job Description: {job_description}\")\n",
    "    print(\"\\n\")\n"
   ]
  },
  {
   "cell_type": "markdown",
   "id": "4ae902db-396f-4161-a3c3-f34d1b9bd02f",
   "metadata": {},
   "source": [
    "ENDING"
   ]
  },
  {
   "cell_type": "code",
   "execution_count": 28,
   "id": "d9fdbfd6-01cb-4fb0-b22e-b0ca8608c900",
   "metadata": {},
   "outputs": [],
   "source": [
    "driver.quit()"
   ]
  },
  {
   "cell_type": "code",
   "execution_count": null,
   "id": "5001a183-329c-4563-a28f-47f14ba32f33",
   "metadata": {},
   "outputs": [],
   "source": []
  }
 ],
 "metadata": {
  "kernelspec": {
   "display_name": "Python 3 (ipykernel)",
   "language": "python",
   "name": "python3"
  },
  "language_info": {
   "codemirror_mode": {
    "name": "ipython",
    "version": 3
   },
   "file_extension": ".py",
   "mimetype": "text/x-python",
   "name": "python",
   "nbconvert_exporter": "python",
   "pygments_lexer": "ipython3",
   "version": "3.11.5"
  }
 },
 "nbformat": 4,
 "nbformat_minor": 5
}
